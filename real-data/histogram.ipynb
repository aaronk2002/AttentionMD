{
 "cells": [
  {
   "cell_type": "code",
   "execution_count": null,
   "metadata": {},
   "outputs": [],
   "source": [
    "import torch\n",
    "import matplotlib.pyplot as plt"
   ]
  },
  {
   "cell_type": "markdown",
   "metadata": {},
   "source": [
    "# Tools"
   ]
  },
  {
   "cell_type": "code",
   "execution_count": null,
   "metadata": {},
   "outputs": [],
   "source": [
    "def get_k_parameters(model):\n",
    "    parameter = []\n",
    "    for block in model.blocks:\n",
    "        parameter.append(\n",
    "            block.attn.attn_matrix.weight.data.abs()[384:768, :]\n",
    "        )\n",
    "    return torch.cat(parameter)"
   ]
  },
  {
   "cell_type": "code",
   "execution_count": null,
   "metadata": {},
   "outputs": [],
   "source": [
    "def get_q_parameters(model):\n",
    "    parameter = []\n",
    "    for block in model.blocks:\n",
    "        parameter.append(\n",
    "            block.attn.attn_matrix.weight.data.abs()[:384, :]\n",
    "        )\n",
    "    return torch.cat(parameter)"
   ]
  },
  {
   "cell_type": "markdown",
   "metadata": {},
   "source": [
    "# Plots"
   ]
  },
  {
   "cell_type": "code",
   "execution_count": null,
   "metadata": {},
   "outputs": [],
   "source": [
    "result = torch.load(\"results/1.1/masked_first/1.pt\", map_location=torch.device('cpu'))\n",
    "model = result[\"model\"]\n",
    "parameter = get_k_parameters(model).flatten()\n",
    "print((parameter > 0.06).sum())\n",
    "hist = torch.histogram(parameter[parameter > 0.06], bins=torch.tensor([0.0 + 0.005 * idx for idx in range(200)]))\n",
    "plt.stairs(hist.hist.detach().numpy(), hist.bin_edges.detach().numpy(), fill=True)\n",
    "plt.plot(parameter.max(), 60,'ro') \n",
    "plt.xlim([0.06, 1.03])\n",
    "plt.ylim([0, 5_000])\n",
    "plt.savefig(\"Parameter_K_1.1.jpg\")\n",
    "plt.show()"
   ]
  },
  {
   "cell_type": "code",
   "execution_count": null,
   "metadata": {},
   "outputs": [],
   "source": [
    "result = torch.load(\"results/2/masked_first/1.pt\", map_location=torch.device('cpu'))\n",
    "model = result[\"model\"]\n",
    "parameter = get_k_parameters(model).flatten()\n",
    "print((parameter > 0.06).sum())\n",
    "hist = torch.histogram(parameter[parameter > 0.06], bins=torch.tensor([0.0 + 0.005 * idx for idx in range(200)]))\n",
    "plt.stairs(hist.hist.detach().numpy(), hist.bin_edges.detach().numpy(), fill=True)\n",
    "plt.plot(parameter.max(), 60,'ro') \n",
    "plt.xlim([0.06, 1.03])\n",
    "plt.ylim([0, 5_000])\n",
    "plt.savefig(\"Parameter_K_2.jpg\")\n",
    "plt.show()"
   ]
  },
  {
   "cell_type": "code",
   "execution_count": null,
   "metadata": {},
   "outputs": [],
   "source": [
    "result = torch.load(\"results/1.1/masked_first/1.pt\", map_location=torch.device('cpu'))\n",
    "model = result[\"model\"]\n",
    "parameter = get_q_parameters(model).flatten()\n",
    "print((parameter > 0.06).sum())\n",
    "hist = torch.histogram(parameter[parameter > 0.06], bins=torch.tensor([0.06 + 0.005 * idx for idx in range(200)]))\n",
    "plt.stairs(hist.hist.detach().numpy(), hist.bin_edges.detach().numpy(), fill=True)\n",
    "plt.plot(parameter.max(), 60,'ro') \n",
    "plt.xlim([0.06, 0.5])\n",
    "plt.ylim([0, 5_000])\n",
    "plt.savefig(\"Parameter_Q_1.1.jpg\")\n",
    "plt.show()"
   ]
  },
  {
   "cell_type": "code",
   "execution_count": null,
   "metadata": {},
   "outputs": [],
   "source": [
    "result = torch.load(\"results/2/masked_first/1.pt\", map_location=torch.device('cpu'))\n",
    "model = result[\"model\"]\n",
    "parameter = get_q_parameters(model).flatten()\n",
    "print((parameter > 0.06).sum())\n",
    "hist = torch.histogram(parameter, bins=torch.tensor([0.06 + 0.005 * idx for idx in range(200)]))\n",
    "plt.stairs(hist.hist.detach().numpy(), hist.bin_edges.detach().numpy(), fill=True)\n",
    "plt.plot(parameter.max(), 60,'ro') \n",
    "plt.xlim([0.06, 0.5])\n",
    "plt.ylim([0, 5_000])\n",
    "plt.savefig(\"Parameter_Q_2.jpg\")\n",
    "plt.show()"
   ]
  }
 ],
 "metadata": {
  "language_info": {
   "name": "python"
  }
 },
 "nbformat": 4,
 "nbformat_minor": 2
}
