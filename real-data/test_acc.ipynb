{
 "cells": [
  {
   "cell_type": "code",
   "execution_count": 8,
   "metadata": {},
   "outputs": [],
   "source": [
    "import torch\n",
    "import matplotlib.pyplot as plt"
   ]
  },
  {
   "cell_type": "code",
   "execution_count": 9,
   "metadata": {},
   "outputs": [],
   "source": [
    "def get_summary(folder, n=10):\n",
    "    max_accs, last_accs, epochs = [], [], []\n",
    "    for idx in range(n):\n",
    "        result = torch.load(f\"{folder}/{idx}.pt\", map_location=torch.device('cpu'))\n",
    "        max_acc, last_acc = max(result[\"test_acc\"]), result[\"test_acc\"][-1]\n",
    "        max_accs.append(max_acc.item()), last_accs.append(last_acc.item())\n",
    "        epochs.append(len(result[\"test_acc\"]))\n",
    "    max_accs = torch.tensor(max_accs)\n",
    "    last_accs = torch.tensor(last_accs)\n",
    "    epochs = torch.tensor(epochs)\n",
    "    return max_accs, last_accs, epochs.double()"
   ]
  },
  {
   "cell_type": "code",
   "execution_count": 11,
   "metadata": {},
   "outputs": [
    {
     "name": "stderr",
     "output_type": "stream",
     "text": [
      "/tmp/ipykernel_1750/4170931759.py:4: FutureWarning: You are using `torch.load` with `weights_only=False` (the current default value), which uses the default pickle module implicitly. It is possible to construct malicious pickle data which will execute arbitrary code during unpickling (See https://github.com/pytorch/pytorch/blob/main/SECURITY.md#untrusted-models for more details). In a future release, the default value for `weights_only` will be flipped to `True`. This limits the functions that could be executed during unpickling. Arbitrary objects will no longer be allowed to be loaded via this mode unless they are explicitly allowlisted by the user via `torch.serialization.add_safe_globals`. We recommend you start setting `weights_only=True` for any use case where you don't have full control of the loaded file. Please open an issue on GitHub for any issues related to this experimental feature.\n",
      "  result = torch.load(f\"{folder}/{idx}.pt\", map_location=torch.device('cpu'))\n"
     ]
    },
    {
     "name": "stdout",
     "output_type": "stream",
     "text": [
      "Max Accs: mean = 0.8347360491752625, std = 0.0009264968684874475\n",
      "Last Accs: mean = 0.8257080316543579, std = 0.0018902397714555264\n",
      "Epochs: mean = 72.1, std = 2.8848262031225076\n"
     ]
    }
   ],
   "source": [
    "max_accs, last_accs, epochs = get_summary(\"results/1.1/3\", 10)\n",
    "print(f\"Max Accs: mean = {max_accs.mean()}, std = {max_accs.std()}\")\n",
    "print(f\"Last Accs: mean = {last_accs.mean()}, std = {last_accs.std()}\")\n",
    "print(f\"Epochs: mean = {epochs.mean()}, std = {epochs.std()}\")"
   ]
  },
  {
   "cell_type": "code",
   "execution_count": 12,
   "metadata": {},
   "outputs": [
    {
     "name": "stderr",
     "output_type": "stream",
     "text": [
      "/tmp/ipykernel_1750/4170931759.py:4: FutureWarning: You are using `torch.load` with `weights_only=False` (the current default value), which uses the default pickle module implicitly. It is possible to construct malicious pickle data which will execute arbitrary code during unpickling (See https://github.com/pytorch/pytorch/blob/main/SECURITY.md#untrusted-models for more details). In a future release, the default value for `weights_only` will be flipped to `True`. This limits the functions that could be executed during unpickling. Arbitrary objects will no longer be allowed to be loaded via this mode unless they are explicitly allowlisted by the user via `torch.serialization.add_safe_globals`. We recommend you start setting `weights_only=True` for any use case where you don't have full control of the loaded file. Please open an issue on GitHub for any issues related to this experimental feature.\n",
      "  result = torch.load(f\"{folder}/{idx}.pt\", map_location=torch.device('cpu'))\n"
     ]
    },
    {
     "name": "stdout",
     "output_type": "stream",
     "text": [
      "Max Accs: mean = 0.8335520029067993, std = 0.0013155769556760788\n",
      "Last Accs: mean = 0.829308032989502, std = 0.0033413886558264494\n",
      "Epochs: mean = 87.3, std = 2.0027758514399734\n"
     ]
    }
   ],
   "source": [
    "max_accs, last_accs, epochs = get_summary(\"results/1.1/4\", 10)\n",
    "print(f\"Max Accs: mean = {max_accs.mean()}, std = {max_accs.std()}\")\n",
    "print(f\"Last Accs: mean = {last_accs.mean()}, std = {last_accs.std()}\")\n",
    "print(f\"Epochs: mean = {epochs.mean()}, std = {epochs.std()}\")"
   ]
  },
  {
   "cell_type": "code",
   "execution_count": 5,
   "metadata": {},
   "outputs": [
    {
     "name": "stdout",
     "output_type": "stream",
     "text": [
      "Max Accs: mean = 0.8257280588150024, std = 0.001523246755823493\n",
      "Last Accs: mean = 0.7806559801101685, std = 0.09867774695158005\n",
      "Epochs: mean = 150.1, std = 298.62739697191586\n"
     ]
    }
   ],
   "source": [
    "max_accs, last_accs, epochs = get_summary(\"results/1.1/6\", 10)\n",
    "print(f\"Max Accs: mean = {max_accs.mean()}, std = {max_accs.std()}\")\n",
    "print(f\"Last Accs: mean = {last_accs.mean()}, std = {last_accs.std()}\")\n",
    "print(f\"Epochs: mean = {epochs.mean()}, std = {epochs.std()}\")"
   ]
  },
  {
   "cell_type": "code",
   "execution_count": 13,
   "metadata": {},
   "outputs": [
    {
     "name": "stderr",
     "output_type": "stream",
     "text": [
      "/tmp/ipykernel_1750/4170931759.py:4: FutureWarning: You are using `torch.load` with `weights_only=False` (the current default value), which uses the default pickle module implicitly. It is possible to construct malicious pickle data which will execute arbitrary code during unpickling (See https://github.com/pytorch/pytorch/blob/main/SECURITY.md#untrusted-models for more details). In a future release, the default value for `weights_only` will be flipped to `True`. This limits the functions that could be executed during unpickling. Arbitrary objects will no longer be allowed to be loaded via this mode unless they are explicitly allowlisted by the user via `torch.serialization.add_safe_globals`. We recommend you start setting `weights_only=True` for any use case where you don't have full control of the loaded file. Please open an issue on GitHub for any issues related to this experimental feature.\n",
      "  result = torch.load(f\"{folder}/{idx}.pt\", map_location=torch.device('cpu'))\n"
     ]
    },
    {
     "name": "stdout",
     "output_type": "stream",
     "text": [
      "Max Accs: mean = 0.8165920376777649, std = 0.0009062277968041599\n",
      "Last Accs: mean = 0.8061439394950867, std = 0.0031631251331418753\n",
      "Epochs: mean = 79.9, std = 2.685351208149711\n"
     ]
    }
   ],
   "source": [
    "max_accs, last_accs, epochs = get_summary(\"results/2/3\", 10)\n",
    "print(f\"Max Accs: mean = {max_accs.mean()}, std = {max_accs.std()}\")\n",
    "print(f\"Last Accs: mean = {last_accs.mean()}, std = {last_accs.std()}\")\n",
    "print(f\"Epochs: mean = {epochs.mean()}, std = {epochs.std()}\")"
   ]
  },
  {
   "cell_type": "code",
   "execution_count": 14,
   "metadata": {},
   "outputs": [
    {
     "name": "stderr",
     "output_type": "stream",
     "text": [
      "/tmp/ipykernel_1750/4170931759.py:4: FutureWarning: You are using `torch.load` with `weights_only=False` (the current default value), which uses the default pickle module implicitly. It is possible to construct malicious pickle data which will execute arbitrary code during unpickling (See https://github.com/pytorch/pytorch/blob/main/SECURITY.md#untrusted-models for more details). In a future release, the default value for `weights_only` will be flipped to `True`. This limits the functions that could be executed during unpickling. Arbitrary objects will no longer be allowed to be loaded via this mode unless they are explicitly allowlisted by the user via `torch.serialization.add_safe_globals`. We recommend you start setting `weights_only=True` for any use case where you don't have full control of the loaded file. Please open an issue on GitHub for any issues related to this experimental feature.\n",
      "  result = torch.load(f\"{folder}/{idx}.pt\", map_location=torch.device('cpu'))\n"
     ]
    },
    {
     "name": "stdout",
     "output_type": "stream",
     "text": [
      "Max Accs: mean = 0.8105079531669617, std = 0.0016774593386799097\n",
      "Last Accs: mean = 0.7996639609336853, std = 0.00464470311999321\n",
      "Epochs: mean = 88.0, std = 4.055175020198813\n"
     ]
    }
   ],
   "source": [
    "max_accs, last_accs, epochs = get_summary(\"results/2/4\", 10)\n",
    "print(f\"Max Accs: mean = {max_accs.mean()}, std = {max_accs.std()}\")\n",
    "print(f\"Last Accs: mean = {last_accs.mean()}, std = {last_accs.std()}\")\n",
    "print(f\"Epochs: mean = {epochs.mean()}, std = {epochs.std()}\")"
   ]
  },
  {
   "cell_type": "code",
   "execution_count": 8,
   "metadata": {},
   "outputs": [
    {
     "name": "stdout",
     "output_type": "stream",
     "text": [
      "Max Accs: mean = 0.8102960586547852, std = 0.0017807029653340578\n",
      "Last Accs: mean = 0.8010720014572144, std = 0.0028601097874343395\n",
      "Epochs: mean = 57.9, std = 2.330951164939612\n"
     ]
    }
   ],
   "source": [
    "max_accs, last_accs, epochs = get_summary(\"results/2/6\", 10)\n",
    "print(f\"Max Accs: mean = {max_accs.mean()}, std = {max_accs.std()}\")\n",
    "print(f\"Last Accs: mean = {last_accs.mean()}, std = {last_accs.std()}\")\n",
    "print(f\"Epochs: mean = {epochs.mean()}, std = {epochs.std()}\")"
   ]
  },
  {
   "cell_type": "code",
   "execution_count": 15,
   "metadata": {},
   "outputs": [
    {
     "name": "stderr",
     "output_type": "stream",
     "text": [
      "/tmp/ipykernel_1750/4170931759.py:4: FutureWarning: You are using `torch.load` with `weights_only=False` (the current default value), which uses the default pickle module implicitly. It is possible to construct malicious pickle data which will execute arbitrary code during unpickling (See https://github.com/pytorch/pytorch/blob/main/SECURITY.md#untrusted-models for more details). In a future release, the default value for `weights_only` will be flipped to `True`. This limits the functions that could be executed during unpickling. Arbitrary objects will no longer be allowed to be loaded via this mode unless they are explicitly allowlisted by the user via `torch.serialization.add_safe_globals`. We recommend you start setting `weights_only=True` for any use case where you don't have full control of the loaded file. Please open an issue on GitHub for any issues related to this experimental feature.\n",
      "  result = torch.load(f\"{folder}/{idx}.pt\", map_location=torch.device('cpu'))\n"
     ]
    },
    {
     "name": "stdout",
     "output_type": "stream",
     "text": [
      "Max Accs: mean = 0.8256711363792419, std = 0.0009977563749998808\n",
      "Last Accs: mean = 0.8132978081703186, std = 0.002286570379510522\n",
      "Epochs: mean = 161.66666666666666, std = 3.5707142142714248\n"
     ]
    }
   ],
   "source": [
    "max_accs, last_accs, epochs = get_summary(\"results/3/3\", 9)\n",
    "print(f\"Max Accs: mean = {max_accs.mean()}, std = {max_accs.std()}\")\n",
    "print(f\"Last Accs: mean = {last_accs.mean()}, std = {last_accs.std()}\")\n",
    "print(f\"Epochs: mean = {epochs.mean()}, std = {epochs.std()}\")"
   ]
  },
  {
   "cell_type": "code",
   "execution_count": 16,
   "metadata": {},
   "outputs": [
    {
     "name": "stderr",
     "output_type": "stream",
     "text": [
      "/tmp/ipykernel_1750/4170931759.py:4: FutureWarning: You are using `torch.load` with `weights_only=False` (the current default value), which uses the default pickle module implicitly. It is possible to construct malicious pickle data which will execute arbitrary code during unpickling (See https://github.com/pytorch/pytorch/blob/main/SECURITY.md#untrusted-models for more details). In a future release, the default value for `weights_only` will be flipped to `True`. This limits the functions that could be executed during unpickling. Arbitrary objects will no longer be allowed to be loaded via this mode unless they are explicitly allowlisted by the user via `torch.serialization.add_safe_globals`. We recommend you start setting `weights_only=True` for any use case where you don't have full control of the loaded file. Please open an issue on GitHub for any issues related to this experimental feature.\n",
      "  result = torch.load(f\"{folder}/{idx}.pt\", map_location=torch.device('cpu'))\n"
     ]
    },
    {
     "name": "stdout",
     "output_type": "stream",
     "text": [
      "Max Accs: mean = 0.8239560127258301, std = 0.0012264393735677004\n",
      "Last Accs: mean = 0.8090999722480774, std = 0.0037238963413983583\n",
      "Epochs: mean = 134.6, std = 6.995236474439826\n"
     ]
    }
   ],
   "source": [
    "max_accs, last_accs, epochs = get_summary(\"results/3/4\", 10)\n",
    "print(f\"Max Accs: mean = {max_accs.mean()}, std = {max_accs.std()}\")\n",
    "print(f\"Last Accs: mean = {last_accs.mean()}, std = {last_accs.std()}\")\n",
    "print(f\"Epochs: mean = {epochs.mean()}, std = {epochs.std()}\")"
   ]
  },
  {
   "cell_type": "code",
   "execution_count": 11,
   "metadata": {},
   "outputs": [
    {
     "name": "stdout",
     "output_type": "stream",
     "text": [
      "Max Accs: mean = 0.8064759969711304, std = 0.001348508638329804\n",
      "Last Accs: mean = 0.7946799993515015, std = 0.0031981170177459717\n",
      "Epochs: mean = 95.2, std = 4.184627953726724\n"
     ]
    }
   ],
   "source": [
    "max_accs, last_accs, epochs = get_summary(\"results/3/6\", 10)\n",
    "print(f\"Max Accs: mean = {max_accs.mean()}, std = {max_accs.std()}\")\n",
    "print(f\"Last Accs: mean = {last_accs.mean()}, std = {last_accs.std()}\")\n",
    "print(f\"Epochs: mean = {epochs.mean()}, std = {epochs.std()}\")"
   ]
  }
 ],
 "metadata": {
  "kernelspec": {
   "display_name": "Python 3 (ipykernel)",
   "language": "python",
   "name": "python3"
  },
  "language_info": {
   "codemirror_mode": {
    "name": "ipython",
    "version": 3
   },
   "file_extension": ".py",
   "mimetype": "text/x-python",
   "name": "python",
   "nbconvert_exporter": "python",
   "pygments_lexer": "ipython3",
   "version": "3.12.6"
  }
 },
 "nbformat": 4,
 "nbformat_minor": 4
}
