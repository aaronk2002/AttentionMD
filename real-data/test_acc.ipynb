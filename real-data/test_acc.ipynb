{
 "cells": [
  {
   "cell_type": "code",
   "execution_count": 1,
   "metadata": {},
   "outputs": [],
   "source": [
    "import torch\n",
    "import matplotlib.pyplot as plt"
   ]
  },
  {
   "cell_type": "code",
   "execution_count": 2,
   "metadata": {},
   "outputs": [],
   "source": [
    "def get_summary(folder, n=10):\n",
    "    max_accs, last_accs, epochs = [], [], []\n",
    "    for idx in range(n):\n",
    "        result = torch.load(f\"{folder}/{idx}.pt\", map_location=torch.device('cpu'))\n",
    "        max_acc, last_acc = max(result[\"test_acc\"]), result[\"test_acc\"][-1]\n",
    "        max_accs.append(max_acc.item()), last_accs.append(last_acc.item())\n",
    "        epochs.append(len(result[\"test_acc\"]))\n",
    "    max_accs = torch.tensor(max_accs)\n",
    "    last_accs = torch.tensor(last_accs)\n",
    "    epochs = torch.tensor(epochs)\n",
    "    return max_accs, last_accs, epochs.double()"
   ]
  },
  {
   "cell_type": "code",
   "execution_count": 3,
   "metadata": {},
   "outputs": [
    {
     "name": "stdout",
     "output_type": "stream",
     "text": [
      "Max Accs: mean = 0.8365079760551453, std = 0.001340391463600099\n",
      "Last Accs: mean = 0.8262919187545776, std = 0.002807101933285594\n",
      "Epochs: mean = 65.3, std = 3.0568684048294332\n"
     ]
    }
   ],
   "source": [
    "max_accs, last_accs, epochs = get_summary(\"results/1.1/masked_first\", 10)\n",
    "print(f\"Max Accs: mean = {max_accs.mean()}, std = {max_accs.std()}\")\n",
    "print(f\"Last Accs: mean = {last_accs.mean()}, std = {last_accs.std()}\")\n",
    "print(f\"Epochs: mean = {epochs.mean()}, std = {epochs.std()}\")"
   ]
  },
  {
   "cell_type": "code",
   "execution_count": 4,
   "metadata": {},
   "outputs": [
    {
     "name": "stdout",
     "output_type": "stream",
     "text": [
      "Max Accs: mean = 0.8382479548454285, std = 0.0008763046935200691\n",
      "Last Accs: mean = 0.8292559385299683, std = 0.0022802078165113926\n",
      "Epochs: mean = 47.1, std = 2.514402955419481\n"
     ]
    }
   ],
   "source": [
    "max_accs, last_accs, epochs = get_summary(\"results/1.1/masked_mean\", 10)\n",
    "print(f\"Max Accs: mean = {max_accs.mean()}, std = {max_accs.std()}\")\n",
    "print(f\"Last Accs: mean = {last_accs.mean()}, std = {last_accs.std()}\")\n",
    "print(f\"Epochs: mean = {epochs.mean()}, std = {epochs.std()}\")"
   ]
  },
  {
   "cell_type": "code",
   "execution_count": 5,
   "metadata": {},
   "outputs": [
    {
     "name": "stdout",
     "output_type": "stream",
     "text": [
      "Max Accs: mean = 0.8257280588150024, std = 0.001523246755823493\n",
      "Last Accs: mean = 0.7806559801101685, std = 0.09867774695158005\n",
      "Epochs: mean = 150.1, std = 298.62739697191586\n"
     ]
    }
   ],
   "source": [
    "max_accs, last_accs, epochs = get_summary(\"results/1.1/mean\", 10)\n",
    "print(f\"Max Accs: mean = {max_accs.mean()}, std = {max_accs.std()}\")\n",
    "print(f\"Last Accs: mean = {last_accs.mean()}, std = {last_accs.std()}\")\n",
    "print(f\"Epochs: mean = {epochs.mean()}, std = {epochs.std()}\")"
   ]
  },
  {
   "cell_type": "code",
   "execution_count": 6,
   "metadata": {},
   "outputs": [
    {
     "name": "stdout",
     "output_type": "stream",
     "text": [
      "Max Accs: mean = 0.8222840428352356, std = 0.0013049687258899212\n",
      "Last Accs: mean = 0.8114840388298035, std = 0.003920798655599356\n",
      "Epochs: mean = 54.0, std = 4.2946995755750415\n"
     ]
    }
   ],
   "source": [
    "max_accs, last_accs, epochs = get_summary(\"results/2/masked_first\", 10)\n",
    "print(f\"Max Accs: mean = {max_accs.mean()}, std = {max_accs.std()}\")\n",
    "print(f\"Last Accs: mean = {last_accs.mean()}, std = {last_accs.std()}\")\n",
    "print(f\"Epochs: mean = {epochs.mean()}, std = {epochs.std()}\")"
   ]
  },
  {
   "cell_type": "code",
   "execution_count": 3,
   "metadata": {},
   "outputs": [
    {
     "name": "stdout",
     "output_type": "stream",
     "text": [
      "Max Accs: mean = 0.8213599920272827, std = 0.0017182939918711782\n",
      "Last Accs: mean = 0.8124119639396667, std = 0.00185998878441751\n",
      "Epochs: mean = 44.0, std = 2.5385910352879693\n"
     ]
    }
   ],
   "source": [
    "max_accs, last_accs, epochs = get_summary(\"results/2/masked_mean\", 10)\n",
    "print(f\"Max Accs: mean = {max_accs.mean()}, std = {max_accs.std()}\")\n",
    "print(f\"Last Accs: mean = {last_accs.mean()}, std = {last_accs.std()}\")\n",
    "print(f\"Epochs: mean = {epochs.mean()}, std = {epochs.std()}\")"
   ]
  },
  {
   "cell_type": "code",
   "execution_count": 8,
   "metadata": {},
   "outputs": [
    {
     "name": "stdout",
     "output_type": "stream",
     "text": [
      "Max Accs: mean = 0.8102960586547852, std = 0.0017807029653340578\n",
      "Last Accs: mean = 0.8010720014572144, std = 0.0028601097874343395\n",
      "Epochs: mean = 57.9, std = 2.330951164939612\n"
     ]
    }
   ],
   "source": [
    "max_accs, last_accs, epochs = get_summary(\"results/2/mean\", 10)\n",
    "print(f\"Max Accs: mean = {max_accs.mean()}, std = {max_accs.std()}\")\n",
    "print(f\"Last Accs: mean = {last_accs.mean()}, std = {last_accs.std()}\")\n",
    "print(f\"Epochs: mean = {epochs.mean()}, std = {epochs.std()}\")"
   ]
  },
  {
   "cell_type": "code",
   "execution_count": 9,
   "metadata": {},
   "outputs": [
    {
     "name": "stdout",
     "output_type": "stream",
     "text": [
      "Max Accs: mean = 0.819748044013977, std = 0.000990093918517232\n",
      "Last Accs: mean = 0.8040679693222046, std = 0.0032370134722441435\n",
      "Epochs: mean = 131.9, std = 4.38304815295373\n"
     ]
    }
   ],
   "source": [
    "max_accs, last_accs, epochs = get_summary(\"results/3/masked_first\", 10)\n",
    "print(f\"Max Accs: mean = {max_accs.mean()}, std = {max_accs.std()}\")\n",
    "print(f\"Last Accs: mean = {last_accs.mean()}, std = {last_accs.std()}\")\n",
    "print(f\"Epochs: mean = {epochs.mean()}, std = {epochs.std()}\")"
   ]
  },
  {
   "cell_type": "code",
   "execution_count": 10,
   "metadata": {},
   "outputs": [
    {
     "name": "stdout",
     "output_type": "stream",
     "text": [
      "Max Accs: mean = 0.8266839981079102, std = 0.0015716876368969679\n",
      "Last Accs: mean = 0.8107320070266724, std = 0.003118976019322872\n",
      "Epochs: mean = 70.7, std = 4.620004810002307\n"
     ]
    }
   ],
   "source": [
    "max_accs, last_accs, epochs = get_summary(\"results/3/masked_mean\", 10)\n",
    "print(f\"Max Accs: mean = {max_accs.mean()}, std = {max_accs.std()}\")\n",
    "print(f\"Last Accs: mean = {last_accs.mean()}, std = {last_accs.std()}\")\n",
    "print(f\"Epochs: mean = {epochs.mean()}, std = {epochs.std()}\")"
   ]
  },
  {
   "cell_type": "code",
   "execution_count": 11,
   "metadata": {},
   "outputs": [
    {
     "name": "stdout",
     "output_type": "stream",
     "text": [
      "Max Accs: mean = 0.8064759969711304, std = 0.001348508638329804\n",
      "Last Accs: mean = 0.7946799993515015, std = 0.0031981170177459717\n",
      "Epochs: mean = 95.2, std = 4.184627953726724\n"
     ]
    }
   ],
   "source": [
    "max_accs, last_accs, epochs = get_summary(\"results/3/mean\", 10)\n",
    "print(f\"Max Accs: mean = {max_accs.mean()}, std = {max_accs.std()}\")\n",
    "print(f\"Last Accs: mean = {last_accs.mean()}, std = {last_accs.std()}\")\n",
    "print(f\"Epochs: mean = {epochs.mean()}, std = {epochs.std()}\")"
   ]
  }
 ],
 "metadata": {
  "kernelspec": {
   "display_name": "Python 3",
   "language": "python",
   "name": "python3"
  },
  "language_info": {
   "codemirror_mode": {
    "name": "ipython",
    "version": 3
   },
   "file_extension": ".py",
   "mimetype": "text/x-python",
   "name": "python",
   "nbconvert_exporter": "python",
   "pygments_lexer": "ipython3",
   "version": "3.10.2"
  }
 },
 "nbformat": 4,
 "nbformat_minor": 2
}
