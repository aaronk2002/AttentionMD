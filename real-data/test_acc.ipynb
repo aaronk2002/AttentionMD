{
 "cells": [
  {
   "cell_type": "code",
   "execution_count": null,
   "metadata": {},
   "outputs": [],
   "source": [
    "import torch\n",
    "import matplotlib.pyplot as plt"
   ]
  },
  {
   "cell_type": "code",
   "execution_count": null,
   "metadata": {},
   "outputs": [],
   "source": [
    "def get_summary(folder, n=10):\n",
    "    max_accs, last_accs, epochs = [], [], []\n",
    "    for idx in range(n):\n",
    "        result = torch.load(f\"{folder}/{idx}.pt\", map_location=torch.device('cpu'))\n",
    "        max_acc, last_acc = max(result[\"test_acc\"]), result[\"test_acc\"][-1]\n",
    "        max_accs.append(max_acc.item()), last_accs.append(last_acc.item())\n",
    "        epochs.append(len(result[\"test_acc\"]))\n",
    "    max_accs = torch.tensor(max_accs)\n",
    "    last_accs = torch.tensor(last_accs)\n",
    "    epochs = torch.tensor(epochs)\n",
    "    return max_accs, last_accs, epochs.double()"
   ]
  },
  {
   "cell_type": "code",
   "execution_count": null,
   "metadata": {},
   "outputs": [],
   "source": [
    "max_accs, last_accs, epochs = get_summary(\"results/1.1/masked_first\", 10)\n",
    "print(f\"Max Accs: mean = {max_accs.mean()}, std = {max_accs.std()}\")\n",
    "print(f\"Last Accs: mean = {last_accs.mean()}, std = {last_accs.std()}\")\n",
    "print(f\"Epochs: mean = {epochs.mean()}, std = {epochs.std()}\")"
   ]
  },
  {
   "cell_type": "code",
   "execution_count": null,
   "metadata": {},
   "outputs": [],
   "source": [
    "max_accs, last_accs, epochs = get_summary(\"results/1.1/masked_mean\", 10)\n",
    "print(f\"Max Accs: mean = {max_accs.mean()}, std = {max_accs.std()}\")\n",
    "print(f\"Last Accs: mean = {last_accs.mean()}, std = {last_accs.std()}\")\n",
    "print(f\"Epochs: mean = {epochs.mean()}, std = {epochs.std()}\")"
   ]
  },
  {
   "cell_type": "code",
   "execution_count": null,
   "metadata": {},
   "outputs": [],
   "source": [
    "max_accs, last_accs, epochs = get_summary(\"results/1.1/mean\", 10)\n",
    "print(f\"Max Accs: mean = {max_accs.mean()}, std = {max_accs.std()}\")\n",
    "print(f\"Last Accs: mean = {last_accs.mean()}, std = {last_accs.std()}\")\n",
    "print(f\"Epochs: mean = {epochs.mean()}, std = {epochs.std()}\")"
   ]
  },
  {
   "cell_type": "code",
   "execution_count": null,
   "metadata": {},
   "outputs": [],
   "source": [
    "max_accs, last_accs, epochs = get_summary(\"results/2/masked_first\", 10)\n",
    "print(f\"Max Accs: mean = {max_accs.mean()}, std = {max_accs.std()}\")\n",
    "print(f\"Last Accs: mean = {last_accs.mean()}, std = {last_accs.std()}\")\n",
    "print(f\"Epochs: mean = {epochs.mean()}, std = {epochs.std()}\")"
   ]
  },
  {
   "cell_type": "code",
   "execution_count": null,
   "metadata": {},
   "outputs": [],
   "source": [
    "max_accs, last_accs, epochs = get_summary(\"results/2/masked_mean\", 10)\n",
    "print(f\"Max Accs: mean = {max_accs.mean()}, std = {max_accs.std()}\")\n",
    "print(f\"Last Accs: mean = {last_accs.mean()}, std = {last_accs.std()}\")\n",
    "print(f\"Epochs: mean = {epochs.mean()}, std = {epochs.std()}\")"
   ]
  },
  {
   "cell_type": "code",
   "execution_count": null,
   "metadata": {},
   "outputs": [],
   "source": [
    "max_accs, last_accs, epochs = get_summary(\"results/2/mean\", 10)\n",
    "print(f\"Max Accs: mean = {max_accs.mean()}, std = {max_accs.std()}\")\n",
    "print(f\"Last Accs: mean = {last_accs.mean()}, std = {last_accs.std()}\")\n",
    "print(f\"Epochs: mean = {epochs.mean()}, std = {epochs.std()}\")"
   ]
  },
  {
   "cell_type": "code",
   "execution_count": null,
   "metadata": {},
   "outputs": [],
   "source": [
    "max_accs, last_accs, epochs = get_summary(\"results/3/masked_first\", 10)\n",
    "print(f\"Max Accs: mean = {max_accs.mean()}, std = {max_accs.std()}\")\n",
    "print(f\"Last Accs: mean = {last_accs.mean()}, std = {last_accs.std()}\")\n",
    "print(f\"Epochs: mean = {epochs.mean()}, std = {epochs.std()}\")"
   ]
  },
  {
   "cell_type": "code",
   "execution_count": null,
   "metadata": {},
   "outputs": [],
   "source": [
    "max_accs, last_accs, epochs = get_summary(\"results/3/masked_mean\", 10)\n",
    "print(f\"Max Accs: mean = {max_accs.mean()}, std = {max_accs.std()}\")\n",
    "print(f\"Last Accs: mean = {last_accs.mean()}, std = {last_accs.std()}\")\n",
    "print(f\"Epochs: mean = {epochs.mean()}, std = {epochs.std()}\")"
   ]
  },
  {
   "cell_type": "code",
   "execution_count": null,
   "metadata": {},
   "outputs": [],
   "source": [
    "max_accs, last_accs, epochs = get_summary(\"results/3/mean\", 10)\n",
    "print(f\"Max Accs: mean = {max_accs.mean()}, std = {max_accs.std()}\")\n",
    "print(f\"Last Accs: mean = {last_accs.mean()}, std = {last_accs.std()}\")\n",
    "print(f\"Epochs: mean = {epochs.mean()}, std = {epochs.std()}\")"
   ]
  }
 ],
 "metadata": {
  "language_info": {
   "name": "python"
  }
 },
 "nbformat": 4,
 "nbformat_minor": 2
}
